{
 "cells": [
  {
   "cell_type": "code",
   "execution_count": 4,
   "metadata": {},
   "outputs": [],
   "source": [
    "import pandas as pd\n",
    "import seaborn as sns\n",
    "import matplotlib.pyplot as plt\n",
    "import numpy as np\n",
    "plt.style.use('dark_background')"
   ]
  },
  {
   "cell_type": "code",
   "execution_count": 8,
   "metadata": {},
   "outputs": [
    {
     "name": "stderr",
     "output_type": "stream",
     "text": [
      "/var/folders/yl/s1pq6fh930j3frb4n30yfhv00000gn/T/ipykernel_60836/2056820426.py:1: FutureWarning: Inferring datetime64[ns] from data containing strings is deprecated and will be removed in a future version. To retain the old behavior explicitly pass Series(data, dtype=datetime64[ns])\n",
      "  df = pd.read_excel('../database/export_binance/df_new.xlsx')\n"
     ]
    },
    {
     "data": {
      "text/html": [
       "<div>\n",
       "<style scoped>\n",
       "    .dataframe tbody tr th:only-of-type {\n",
       "        vertical-align: middle;\n",
       "    }\n",
       "\n",
       "    .dataframe tbody tr th {\n",
       "        vertical-align: top;\n",
       "    }\n",
       "\n",
       "    .dataframe thead th {\n",
       "        text-align: right;\n",
       "    }\n",
       "</style>\n",
       "<table border=\"1\" class=\"dataframe\">\n",
       "  <thead>\n",
       "    <tr style=\"text-align: right;\">\n",
       "      <th></th>\n",
       "      <th>Unnamed: 0</th>\n",
       "      <th>User_ID</th>\n",
       "      <th>UTC_Time</th>\n",
       "      <th>Account</th>\n",
       "      <th>Operation</th>\n",
       "      <th>Coin</th>\n",
       "      <th>Change</th>\n",
       "      <th>Remark</th>\n",
       "    </tr>\n",
       "  </thead>\n",
       "  <tbody>\n",
       "    <tr>\n",
       "      <th>0</th>\n",
       "      <td>1</td>\n",
       "      <td>1</td>\n",
       "      <td>2021-05-31 09:00:00</td>\n",
       "      <td>Spot</td>\n",
       "      <td>Deposit</td>\n",
       "      <td>SOL</td>\n",
       "      <td>25.0</td>\n",
       "      <td>NaN</td>\n",
       "    </tr>\n",
       "    <tr>\n",
       "      <th>1</th>\n",
       "      <td>1</td>\n",
       "      <td>1</td>\n",
       "      <td>2021-05-31 09:00:00</td>\n",
       "      <td>Spot</td>\n",
       "      <td>Deposit</td>\n",
       "      <td>BTC</td>\n",
       "      <td>1.0</td>\n",
       "      <td>NaN</td>\n",
       "    </tr>\n",
       "  </tbody>\n",
       "</table>\n",
       "</div>"
      ],
      "text/plain": [
       "   Unnamed: 0  User_ID            UTC_Time Account Operation Coin  Change  \\\n",
       "0           1        1 2021-05-31 09:00:00    Spot   Deposit  SOL    25.0   \n",
       "1           1        1 2021-05-31 09:00:00    Spot   Deposit  BTC     1.0   \n",
       "\n",
       "  Remark  \n",
       "0    NaN  \n",
       "1    NaN  "
      ]
     },
     "execution_count": 8,
     "metadata": {},
     "output_type": "execute_result"
    }
   ],
   "source": [
    "df = pd.read_excel('../database/export_binance/df_new.xlsx')\n",
    "df.head(2)"
   ]
  },
  {
   "cell_type": "code",
   "execution_count": 9,
   "metadata": {},
   "outputs": [
    {
     "data": {
      "text/plain": [
       "Unnamed: 0             int64\n",
       "User_ID                int64\n",
       "UTC_Time      datetime64[ns]\n",
       "Account               object\n",
       "Operation             object\n",
       "Coin                  object\n",
       "Change               float64\n",
       "Remark                object\n",
       "dtype: object"
      ]
     },
     "execution_count": 9,
     "metadata": {},
     "output_type": "execute_result"
    }
   ],
   "source": [
    "df.dtypes"
   ]
  },
  {
   "cell_type": "code",
   "execution_count": 10,
   "metadata": {},
   "outputs": [
    {
     "data": {
      "text/plain": [
       "0"
      ]
     },
     "execution_count": 10,
     "metadata": {},
     "output_type": "execute_result"
    }
   ],
   "source": [
    "df.duplicated().sum()"
   ]
  },
  {
   "cell_type": "code",
   "execution_count": 11,
   "metadata": {},
   "outputs": [
    {
     "data": {
      "text/plain": [
       "Unnamed: 0       0\n",
       "User_ID          0\n",
       "UTC_Time         0\n",
       "Account          0\n",
       "Operation        0\n",
       "Coin             0\n",
       "Change           0\n",
       "Remark        9632\n",
       "dtype: int64"
      ]
     },
     "execution_count": 11,
     "metadata": {},
     "output_type": "execute_result"
    }
   ],
   "source": [
    "df.isnull().sum()"
   ]
  },
  {
   "cell_type": "code",
   "execution_count": 47,
   "metadata": {},
   "outputs": [
    {
     "name": "stdout",
     "output_type": "stream",
     "text": [
      "unique values for Account: ['Spot' 'Card' 'USDT-Futures']\n",
      "\n",
      "\n",
      "unique values for Operation: ['Deposit' 'Buy' 'Fee' 'Sell' 'Commission Rebate' 'Withdraw'\n",
      " 'Transaction Related' 'Large OTC trading' 'Distribution'\n",
      " 'NFT transaction' 'transfer_in' 'transfer_out' 'Binance Card Spending'\n",
      " 'Card Cashback' 'Small assets exchange BNB'\n",
      " 'Launchpad token distribution' 'Launchpad subscribe'\n",
      " 'Realize profit and loss' 'Insurance fund compensation' 'Funding Fee'\n",
      " 'Referrer rebates' 'Asset Conversion Transfer']\n",
      "\n",
      "\n",
      "unique values for Coin: ['SOL' 'BTC' 'BNB' 'BUSD' 'USDT' 'AAVE' 'ADA' 'ATOM' 'AUDIO' 'AVAX' 'ETH'\n",
      " 'CAKE' 'CELR' 'DOT' 'EOS' 'LINK' 'EUR' 'FTM' 'LTC' 'MANA' 'SAND' 'USDC'\n",
      " 'UNI' 'SUSHI' 'MATIC' 'XTZ' 'WETH' 'QUICK' 'RUNE' 'NEAR' 'LUNA' 'FTT'\n",
      " 'EDG' 'BETA']\n",
      "\n",
      "\n",
      "unique values for Remark: [nan 'Withdraw fee is included' '穿仓保证金补偿']\n",
      "\n",
      "\n"
     ]
    }
   ],
   "source": [
    "col_cat = df.columns[df.dtypes == 'object']\n",
    "for i in col_cat:\n",
    "    print(f'unique values for {i}: {df[i].unique()}')\n",
    "    print('\\n')"
   ]
  },
  {
   "cell_type": "code",
   "execution_count": null,
   "metadata": {},
   "outputs": [],
   "source": []
  }
 ],
 "metadata": {
  "interpreter": {
   "hash": "81535c40c187213d8173a98c8ffbf422147d8403865cdcdb817e05fa807ec559"
  },
  "kernelspec": {
   "display_name": "Python 3.9.7 ('base')",
   "language": "python",
   "name": "python3"
  },
  "language_info": {
   "codemirror_mode": {
    "name": "ipython",
    "version": 3
   },
   "file_extension": ".py",
   "mimetype": "text/x-python",
   "name": "python",
   "nbconvert_exporter": "python",
   "pygments_lexer": "ipython3",
   "version": "3.9.7"
  },
  "orig_nbformat": 4
 },
 "nbformat": 4,
 "nbformat_minor": 2
}

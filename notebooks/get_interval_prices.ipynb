{
 "cells": [
  {
   "cell_type": "code",
   "execution_count": 1,
   "metadata": {},
   "outputs": [
    {
     "data": {
      "text/plain": [
       "True"
      ]
     },
     "execution_count": 1,
     "metadata": {},
     "output_type": "execute_result"
    }
   ],
   "source": [
    "import pandas as pd\n",
    "from binance import Client\n",
    "import os\n",
    "from dotenv import load_dotenv\n",
    "load_dotenv()"
   ]
  },
  {
   "cell_type": "code",
   "execution_count": 5,
   "metadata": {},
   "outputs": [],
   "source": [
    "def klines_csv(asset_pair, candle_interval, beg_date, end_date):\n",
    "\n",
    "    \"\"\" creates a csv file with candlestick data in output file, given the following parameters:\n",
    "        asset_pair: ETHUSDT\n",
    "        candle_interval:  Client.KLINE_INTERVAL_1DAY\n",
    "        beg_date: 1 Oct, 2019\n",
    "        end_date: 23 Feb, 2022 \"\"\"\n",
    "\n",
    "    api_key = os.getenv(\"BNB_API_KEY\")\n",
    "    api_secret = os.getenv(\"BNB_SECRET_KEY\")\n",
    "    client = Client(api_key, api_secret)\n",
    "    klines = pd.DataFrame(client.get_historical_klines(asset_pair, str(candle_interval), beg_date, end_date), columns=[\"open_time\", \"open\", \"high\", \"low\", \"close\", \"volume\", \"close_time\", \"quote_asset_volume\", \"number_of_trades\", \"taker_buy_base_asset_volume\", \"taker_buy_quote_asset_volume\", \"ignore\"])\n",
    "    variable_link = f\"../{asset_pair}_{candle_interval}_{(beg_date.lower().replace(' ', '').replace(',', ''))}_{(end_date.lower().replace(' ', '').replace(',', ''))}.xlsx\"\n",
    "    klines.to_excel(variable_link, index = False)\n",
    "\n",
    "    return f'you have downloaded data set of {asset_pair} with {klines.shape[0]} rows and {klines.shape[1]} columns - from {beg_date} to {end_date}'"
   ]
  },
  {
   "cell_type": "code",
   "execution_count": 6,
   "metadata": {},
   "outputs": [
    {
     "data": {
      "text/plain": [
       "'you have downloaded data set of ETHUSDT with 343 rows and 12 columns - from 30 Jun, 2021 to 7 Jun, 2022'"
      ]
     },
     "execution_count": 6,
     "metadata": {},
     "output_type": "execute_result"
    }
   ],
   "source": [
    "klines_csv(\"ETHUSDT\", Client.KLINE_INTERVAL_1DAY, \"30 Jun, 2021\", \"7 Jun, 2022\")"
   ]
  },
  {
   "cell_type": "code",
   "execution_count": null,
   "metadata": {},
   "outputs": [],
   "source": []
  }
 ],
 "metadata": {
  "interpreter": {
   "hash": "81535c40c187213d8173a98c8ffbf422147d8403865cdcdb817e05fa807ec559"
  },
  "kernelspec": {
   "display_name": "Python 3.9.7 ('base')",
   "language": "python",
   "name": "python3"
  },
  "language_info": {
   "codemirror_mode": {
    "name": "ipython",
    "version": 3
   },
   "file_extension": ".py",
   "mimetype": "text/x-python",
   "name": "python",
   "nbconvert_exporter": "python",
   "pygments_lexer": "ipython3",
   "version": "3.9.7"
  },
  "orig_nbformat": 4
 },
 "nbformat": 4,
 "nbformat_minor": 2
}

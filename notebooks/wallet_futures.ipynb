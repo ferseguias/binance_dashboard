{
 "cells": [
  {
   "cell_type": "code",
   "execution_count": 2,
   "metadata": {},
   "outputs": [],
   "source": [
    "import pandas as pd\n",
    "import seaborn as sns\n",
    "import matplotlib.pyplot as plt\n",
    "plt.style.use('ggplot')"
   ]
  },
  {
   "cell_type": "markdown",
   "metadata": {},
   "source": [
    "## import raw data"
   ]
  },
  {
   "cell_type": "code",
   "execution_count": 3,
   "metadata": {},
   "outputs": [
    {
     "data": {
      "text/html": [
       "<div>\n",
       "<style scoped>\n",
       "    .dataframe tbody tr th:only-of-type {\n",
       "        vertical-align: middle;\n",
       "    }\n",
       "\n",
       "    .dataframe tbody tr th {\n",
       "        vertical-align: top;\n",
       "    }\n",
       "\n",
       "    .dataframe thead th {\n",
       "        text-align: right;\n",
       "    }\n",
       "</style>\n",
       "<table border=\"1\" class=\"dataframe\">\n",
       "  <thead>\n",
       "    <tr style=\"text-align: right;\">\n",
       "      <th></th>\n",
       "      <th>Unnamed: 0</th>\n",
       "      <th>User_ID</th>\n",
       "      <th>UTC_Time</th>\n",
       "      <th>Account</th>\n",
       "      <th>Operation</th>\n",
       "      <th>Coin</th>\n",
       "      <th>Change</th>\n",
       "      <th>Remark</th>\n",
       "    </tr>\n",
       "  </thead>\n",
       "  <tbody>\n",
       "    <tr>\n",
       "      <th>0</th>\n",
       "      <td>16</td>\n",
       "      <td>15578312</td>\n",
       "      <td>2021-07-15 14:37:34</td>\n",
       "      <td>Spot</td>\n",
       "      <td>Deposit</td>\n",
       "      <td>BUSD</td>\n",
       "      <td>40000.000000</td>\n",
       "      <td>NaN</td>\n",
       "    </tr>\n",
       "    <tr>\n",
       "      <th>1</th>\n",
       "      <td>16</td>\n",
       "      <td>15578312</td>\n",
       "      <td>2021-07-15 14:37:34</td>\n",
       "      <td>Spot</td>\n",
       "      <td>Deposit</td>\n",
       "      <td>BNB</td>\n",
       "      <td>9.000000</td>\n",
       "      <td>NaN</td>\n",
       "    </tr>\n",
       "    <tr>\n",
       "      <th>2</th>\n",
       "      <td>17</td>\n",
       "      <td>15578312</td>\n",
       "      <td>2021-07-15 18:06:30</td>\n",
       "      <td>Spot</td>\n",
       "      <td>Fee</td>\n",
       "      <td>BNB</td>\n",
       "      <td>-0.000944</td>\n",
       "      <td>NaN</td>\n",
       "    </tr>\n",
       "  </tbody>\n",
       "</table>\n",
       "</div>"
      ],
      "text/plain": [
       "   Unnamed: 0   User_ID             UTC_Time Account Operation  Coin  \\\n",
       "0          16  15578312  2021-07-15 14:37:34    Spot   Deposit  BUSD   \n",
       "1          16  15578312  2021-07-15 14:37:34    Spot   Deposit   BNB   \n",
       "2          17  15578312  2021-07-15 18:06:30    Spot       Fee   BNB   \n",
       "\n",
       "         Change Remark  \n",
       "0  40000.000000    NaN  \n",
       "1      9.000000    NaN  \n",
       "2     -0.000944    NaN  "
      ]
     },
     "execution_count": 3,
     "metadata": {},
     "output_type": "execute_result"
    }
   ],
   "source": [
    "df = pd.read_excel('../df.xlsx')\n",
    "df.head(3)"
   ]
  },
  {
   "cell_type": "markdown",
   "metadata": {},
   "source": [
    "## futures wallet"
   ]
  },
  {
   "cell_type": "code",
   "execution_count": 4,
   "metadata": {},
   "outputs": [
    {
     "data": {
      "text/html": [
       "<div>\n",
       "<style scoped>\n",
       "    .dataframe tbody tr th:only-of-type {\n",
       "        vertical-align: middle;\n",
       "    }\n",
       "\n",
       "    .dataframe tbody tr th {\n",
       "        vertical-align: top;\n",
       "    }\n",
       "\n",
       "    .dataframe thead th {\n",
       "        text-align: right;\n",
       "    }\n",
       "</style>\n",
       "<table border=\"1\" class=\"dataframe\">\n",
       "  <thead>\n",
       "    <tr style=\"text-align: right;\">\n",
       "      <th></th>\n",
       "      <th>Unnamed: 0</th>\n",
       "      <th>User_ID</th>\n",
       "      <th>UTC_Time</th>\n",
       "      <th>Account</th>\n",
       "      <th>Operation</th>\n",
       "      <th>Coin</th>\n",
       "      <th>Change</th>\n",
       "      <th>Remark</th>\n",
       "      <th>accum_sum</th>\n",
       "    </tr>\n",
       "  </thead>\n",
       "  <tbody>\n",
       "    <tr>\n",
       "      <th>64</th>\n",
       "      <td>957</td>\n",
       "      <td>15578312</td>\n",
       "      <td>2021-11-07 19:54:04</td>\n",
       "      <td>USDT-Futures</td>\n",
       "      <td>transfer_in</td>\n",
       "      <td>USDT</td>\n",
       "      <td>1000.000000</td>\n",
       "      <td>NaN</td>\n",
       "      <td>1000.000000</td>\n",
       "    </tr>\n",
       "    <tr>\n",
       "      <th>65</th>\n",
       "      <td>958</td>\n",
       "      <td>15578312</td>\n",
       "      <td>2021-11-07 20:19:58</td>\n",
       "      <td>USDT-Futures</td>\n",
       "      <td>Fee</td>\n",
       "      <td>USDT</td>\n",
       "      <td>-1.138828</td>\n",
       "      <td>NaN</td>\n",
       "      <td>998.861172</td>\n",
       "    </tr>\n",
       "    <tr>\n",
       "      <th>66</th>\n",
       "      <td>959</td>\n",
       "      <td>15578312</td>\n",
       "      <td>2021-11-07 21:00:40</td>\n",
       "      <td>USDT-Futures</td>\n",
       "      <td>Fee</td>\n",
       "      <td>USDT</td>\n",
       "      <td>-0.289000</td>\n",
       "      <td>NaN</td>\n",
       "      <td>998.572172</td>\n",
       "    </tr>\n",
       "    <tr>\n",
       "      <th>67</th>\n",
       "      <td>960</td>\n",
       "      <td>15578312</td>\n",
       "      <td>2021-11-07 21:00:40</td>\n",
       "      <td>USDT-Futures</td>\n",
       "      <td>Fee</td>\n",
       "      <td>USDT</td>\n",
       "      <td>-0.057800</td>\n",
       "      <td>NaN</td>\n",
       "      <td>998.514372</td>\n",
       "    </tr>\n",
       "    <tr>\n",
       "      <th>68</th>\n",
       "      <td>961</td>\n",
       "      <td>15578312</td>\n",
       "      <td>2021-11-07 21:00:40</td>\n",
       "      <td>USDT-Futures</td>\n",
       "      <td>Fee</td>\n",
       "      <td>USDT</td>\n",
       "      <td>-0.039304</td>\n",
       "      <td>NaN</td>\n",
       "      <td>998.475068</td>\n",
       "    </tr>\n",
       "  </tbody>\n",
       "</table>\n",
       "</div>"
      ],
      "text/plain": [
       "    Unnamed: 0   User_ID             UTC_Time       Account    Operation  \\\n",
       "64         957  15578312  2021-11-07 19:54:04  USDT-Futures  transfer_in   \n",
       "65         958  15578312  2021-11-07 20:19:58  USDT-Futures          Fee   \n",
       "66         959  15578312  2021-11-07 21:00:40  USDT-Futures          Fee   \n",
       "67         960  15578312  2021-11-07 21:00:40  USDT-Futures          Fee   \n",
       "68         961  15578312  2021-11-07 21:00:40  USDT-Futures          Fee   \n",
       "\n",
       "    Coin       Change Remark    accum_sum  \n",
       "64  USDT  1000.000000    NaN  1000.000000  \n",
       "65  USDT    -1.138828    NaN   998.861172  \n",
       "66  USDT    -0.289000    NaN   998.572172  \n",
       "67  USDT    -0.057800    NaN   998.514372  \n",
       "68  USDT    -0.039304    NaN   998.475068  "
      ]
     },
     "execution_count": 4,
     "metadata": {},
     "output_type": "execute_result"
    }
   ],
   "source": [
    "df_futures = df.loc[df['Account'] == 'USDT-Futures']\n",
    "accum_sum = df_futures['Change'].cumsum(axis=0)\n",
    "df_futures = df_futures.assign(accum_sum=accum_sum)\n",
    "df_futures.head(5)"
   ]
  },
  {
   "cell_type": "code",
   "execution_count": 17,
   "metadata": {},
   "outputs": [
    {
     "name": "stdout",
     "output_type": "stream",
     "text": [
      "total funding futures account (in-out): 832.25 USDT\n",
      "current balance futures account: 2.75 USDT\n",
      "gain/(loss): -829.49 USDT\n",
      "total fees paid: 330.62 USDT\n"
     ]
    }
   ],
   "source": [
    "funding = df_futures.loc[df_futures['Operation'] == 'transfer_in']['Change'].sum() + df_futures.loc[df_futures['Operation'] == 'transfer_out']['Change'].sum()\n",
    "print(f'total funding futures account (in-out): {round(funding, 2)} USDT')\n",
    "balance_futures = df_futures['accum_sum'].iloc[-1]\n",
    "print(f'current balance futures account: {round(balance_futures, 2)} USDT')\n",
    "print(f'gain/(loss): {round((balance_futures - funding), 2)} USDT')\n",
    "fees = df_futures.loc[df_futures['Operation'] == 'Fee']['Change'].sum() + df_futures.loc[df_futures['Operation'] == 'Funding Fee']['Change'].sum()\n",
    "print(f'total fees paid: {round(-fees, 2)} USDT')"
   ]
  },
  {
   "cell_type": "code",
   "execution_count": 18,
   "metadata": {},
   "outputs": [
    {
     "data": {
      "image/png": "[encoded data removed]",
      "text/plain": [
       "<Figure size 432x288 with 1 Axes>"
      ]
     },
     "metadata": {},
     "output_type": "display_data"
    }
   ],
   "source": [
    "sns.lineplot(x='UTC_Time', y='accum_sum', data=df_futures);"
   ]
  },
  {
   "cell_type": "code",
   "execution_count": null,
   "metadata": {},
   "outputs": [],
   "source": []
  }
 ],
 "metadata": {
  "interpreter": {
   "hash": "81535c40c187213d8173a98c8ffbf422147d8403865cdcdb817e05fa807ec559"
  },
  "kernelspec": {
   "display_name": "Python 3.9.7 ('base')",
   "language": "python",
   "name": "python3"
  },
  "language_info": {
   "codemirror_mode": {
    "name": "ipython",
    "version": 3
   },
   "file_extension": ".py",
   "mimetype": "text/x-python",
   "name": "python",
   "nbconvert_exporter": "python",
   "pygments_lexer": "ipython3",
   "version": "3.9.7"
  },
  "orig_nbformat": 4
 },
 "nbformat": 4,
 "nbformat_minor": 2
}

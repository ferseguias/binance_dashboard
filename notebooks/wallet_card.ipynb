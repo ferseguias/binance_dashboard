{
 "cells": [
  {
   "cell_type": "code",
   "execution_count": 23,
   "metadata": {},
   "outputs": [],
   "source": [
    "import pandas as pd\n",
    "import numpy as np\n",
    "import seaborn as sns\n",
    "import matplotlib.pyplot as plt\n",
    "plt.style.use('dark_background')\n",
    "import warnings\n",
    "warnings.filterwarnings(\"ignore\")"
   ]
  },
  {
   "cell_type": "code",
   "execution_count": 72,
   "metadata": {},
   "outputs": [
    {
     "data": {
      "text/html": [
       "<div>\n",
       "<style scoped>\n",
       "    .dataframe tbody tr th:only-of-type {\n",
       "        vertical-align: middle;\n",
       "    }\n",
       "\n",
       "    .dataframe tbody tr th {\n",
       "        vertical-align: top;\n",
       "    }\n",
       "\n",
       "    .dataframe thead th {\n",
       "        text-align: right;\n",
       "    }\n",
       "</style>\n",
       "<table border=\"1\" class=\"dataframe\">\n",
       "  <thead>\n",
       "    <tr style=\"text-align: right;\">\n",
       "      <th></th>\n",
       "      <th>User_ID</th>\n",
       "      <th>UTC_Time</th>\n",
       "      <th>Account</th>\n",
       "      <th>Operation</th>\n",
       "      <th>Coin</th>\n",
       "      <th>Change</th>\n",
       "      <th>Remark</th>\n",
       "    </tr>\n",
       "  </thead>\n",
       "  <tbody>\n",
       "    <tr>\n",
       "      <th>1</th>\n",
       "      <td>1</td>\n",
       "      <td>2021-05-31 09:00:00</td>\n",
       "      <td>Spot</td>\n",
       "      <td>Deposit</td>\n",
       "      <td>SOL</td>\n",
       "      <td>25.0</td>\n",
       "      <td>NaN</td>\n",
       "    </tr>\n",
       "    <tr>\n",
       "      <th>1</th>\n",
       "      <td>1</td>\n",
       "      <td>2021-05-31 09:00:00</td>\n",
       "      <td>Spot</td>\n",
       "      <td>Deposit</td>\n",
       "      <td>BTC</td>\n",
       "      <td>1.0</td>\n",
       "      <td>NaN</td>\n",
       "    </tr>\n",
       "    <tr>\n",
       "      <th>1</th>\n",
       "      <td>1</td>\n",
       "      <td>2021-05-31 09:00:00</td>\n",
       "      <td>Spot</td>\n",
       "      <td>Deposit</td>\n",
       "      <td>BNB</td>\n",
       "      <td>35.0</td>\n",
       "      <td>NaN</td>\n",
       "    </tr>\n",
       "  </tbody>\n",
       "</table>\n",
       "</div>"
      ],
      "text/plain": [
       "   User_ID            UTC_Time Account Operation Coin  Change Remark\n",
       "1        1 2021-05-31 09:00:00    Spot   Deposit  SOL    25.0    NaN\n",
       "1        1 2021-05-31 09:00:00    Spot   Deposit  BTC     1.0    NaN\n",
       "1        1 2021-05-31 09:00:00    Spot   Deposit  BNB    35.0    NaN"
      ]
     },
     "execution_count": 72,
     "metadata": {},
     "output_type": "execute_result"
    }
   ],
   "source": [
    "df = pd.read_excel('../database/export_binance/df_new.xlsx', index_col=0)\n",
    "df.head(3)"
   ]
  },
  {
   "cell_type": "code",
   "execution_count": 74,
   "metadata": {},
   "outputs": [
    {
     "data": {
      "text/html": [
       "<div>\n",
       "<style scoped>\n",
       "    .dataframe tbody tr th:only-of-type {\n",
       "        vertical-align: middle;\n",
       "    }\n",
       "\n",
       "    .dataframe tbody tr th {\n",
       "        vertical-align: top;\n",
       "    }\n",
       "\n",
       "    .dataframe thead th {\n",
       "        text-align: right;\n",
       "    }\n",
       "</style>\n",
       "<table border=\"1\" class=\"dataframe\">\n",
       "  <thead>\n",
       "    <tr style=\"text-align: right;\">\n",
       "      <th></th>\n",
       "      <th>User_ID</th>\n",
       "      <th>UTC_Time</th>\n",
       "      <th>Account</th>\n",
       "      <th>Operation</th>\n",
       "      <th>Coin</th>\n",
       "      <th>Change</th>\n",
       "      <th>Remark</th>\n",
       "    </tr>\n",
       "  </thead>\n",
       "  <tbody>\n",
       "    <tr>\n",
       "      <th>823</th>\n",
       "      <td>11233391</td>\n",
       "      <td>2021-06-05 22:24:30</td>\n",
       "      <td>Card</td>\n",
       "      <td>Binance Card Spending</td>\n",
       "      <td>EUR</td>\n",
       "      <td>-33.000000</td>\n",
       "      <td>NaN</td>\n",
       "    </tr>\n",
       "    <tr>\n",
       "      <th>824</th>\n",
       "      <td>11233391</td>\n",
       "      <td>2021-06-07 06:24:37</td>\n",
       "      <td>Card</td>\n",
       "      <td>Card Cashback</td>\n",
       "      <td>BNB</td>\n",
       "      <td>0.000823</td>\n",
       "      <td>NaN</td>\n",
       "    </tr>\n",
       "    <tr>\n",
       "      <th>952</th>\n",
       "      <td>11233391</td>\n",
       "      <td>2021-06-08 05:10:12</td>\n",
       "      <td>Card</td>\n",
       "      <td>Card Cashback</td>\n",
       "      <td>BNB</td>\n",
       "      <td>0.003474</td>\n",
       "      <td>NaN</td>\n",
       "    </tr>\n",
       "  </tbody>\n",
       "</table>\n",
       "</div>"
      ],
      "text/plain": [
       "      User_ID            UTC_Time Account              Operation Coin  \\\n",
       "823  11233391 2021-06-05 22:24:30    Card  Binance Card Spending  EUR   \n",
       "824  11233391 2021-06-07 06:24:37    Card          Card Cashback  BNB   \n",
       "952  11233391 2021-06-08 05:10:12    Card          Card Cashback  BNB   \n",
       "\n",
       "        Change Remark  \n",
       "823 -33.000000    NaN  \n",
       "824   0.000823    NaN  \n",
       "952   0.003474    NaN  "
      ]
     },
     "execution_count": 74,
     "metadata": {},
     "output_type": "execute_result"
    }
   ],
   "source": [
    "df_card = df.loc[df['Account'] == 'Card']\n",
    "df_card.head(3)"
   ]
  },
  {
   "cell_type": "code",
   "execution_count": 82,
   "metadata": {},
   "outputs": [
    {
     "data": {
      "text/html": [
       "<div>\n",
       "<style scoped>\n",
       "    .dataframe tbody tr th:only-of-type {\n",
       "        vertical-align: middle;\n",
       "    }\n",
       "\n",
       "    .dataframe tbody tr th {\n",
       "        vertical-align: top;\n",
       "    }\n",
       "\n",
       "    .dataframe thead th {\n",
       "        text-align: right;\n",
       "    }\n",
       "</style>\n",
       "<table border=\"1\" class=\"dataframe\">\n",
       "  <thead>\n",
       "    <tr style=\"text-align: right;\">\n",
       "      <th></th>\n",
       "      <th>Change</th>\n",
       "    </tr>\n",
       "    <tr>\n",
       "      <th>Coin</th>\n",
       "      <th></th>\n",
       "    </tr>\n",
       "  </thead>\n",
       "  <tbody>\n",
       "    <tr>\n",
       "      <th>BNB</th>\n",
       "      <td>0.119919</td>\n",
       "    </tr>\n",
       "    <tr>\n",
       "      <th>EUR</th>\n",
       "      <td>7.270000</td>\n",
       "    </tr>\n",
       "  </tbody>\n",
       "</table>\n",
       "</div>"
      ],
      "text/plain": [
       "        Change\n",
       "Coin          \n",
       "BNB   0.119919\n",
       "EUR   7.270000"
      ]
     },
     "execution_count": 82,
     "metadata": {},
     "output_type": "execute_result"
    }
   ],
   "source": [
    "card_balance = pd.DataFrame(df_card.groupby('Coin').sum()['Change'])\n",
    "card_balance.head(3)"
   ]
  },
  {
   "cell_type": "code",
   "execution_count": 83,
   "metadata": {},
   "outputs": [
    {
     "name": "stdout",
     "output_type": "stream",
     "text": [
      "current total value: 42.32 USDT\n"
     ]
    },
    {
     "data": {
      "text/html": [
       "<div>\n",
       "<style scoped>\n",
       "    .dataframe tbody tr th:only-of-type {\n",
       "        vertical-align: middle;\n",
       "    }\n",
       "\n",
       "    .dataframe tbody tr th {\n",
       "        vertical-align: top;\n",
       "    }\n",
       "\n",
       "    .dataframe thead th {\n",
       "        text-align: right;\n",
       "    }\n",
       "</style>\n",
       "<table border=\"1\" class=\"dataframe\">\n",
       "  <thead>\n",
       "    <tr style=\"text-align: right;\">\n",
       "      <th></th>\n",
       "      <th>Change</th>\n",
       "      <th>USDT_price</th>\n",
       "      <th>USDT_value</th>\n",
       "    </tr>\n",
       "    <tr>\n",
       "      <th>Coin</th>\n",
       "      <th></th>\n",
       "      <th></th>\n",
       "      <th></th>\n",
       "    </tr>\n",
       "  </thead>\n",
       "  <tbody>\n",
       "    <tr>\n",
       "      <th>BNB</th>\n",
       "      <td>0.119919</td>\n",
       "      <td>287.900</td>\n",
       "      <td>34.524815</td>\n",
       "    </tr>\n",
       "    <tr>\n",
       "      <th>EUR</th>\n",
       "      <td>7.270000</td>\n",
       "      <td>1.072</td>\n",
       "      <td>7.793440</td>\n",
       "    </tr>\n",
       "  </tbody>\n",
       "</table>\n",
       "</div>"
      ],
      "text/plain": [
       "        Change  USDT_price  USDT_value\n",
       "Coin                                  \n",
       "BNB   0.119919     287.900   34.524815\n",
       "EUR   7.270000       1.072    7.793440"
      ]
     },
     "execution_count": 83,
     "metadata": {},
     "output_type": "execute_result"
    }
   ],
   "source": [
    "df_current_prices = pd.read_excel('../database/prices/current_prices.xlsx', index_col=0)\n",
    "holding_prices = []\n",
    "for i in card_balance.index:\n",
    "    if i == 'USDT':\n",
    "        holding_prices.append(1)\n",
    "    else:\n",
    "        try:\n",
    "            price = df_current_prices.loc[df_current_prices['symbol'] == (i + 'USDT')]['price'].values[0]\n",
    "            holding_prices.append(price)\n",
    "        except:\n",
    "            holding_prices.append(np.nan)\n",
    "card_balance = pd.DataFrame(card_balance)\n",
    "card_balance['USDT_price'] = holding_prices\n",
    "card_balance['USDT_value'] = holding_prices * card_balance['Change']\n",
    "print(f'current total value: {round(card_balance[\"USDT_value\"].sum(), 2)} USDT')\n",
    "card_balance.sort_values(by='USDT_value', ascending=False, inplace=True)\n",
    "card_balance = card_balance.loc[card_balance['USDT_value'] > 1]\n",
    "card_balance"
   ]
  },
  {
   "cell_type": "code",
   "execution_count": 108,
   "metadata": {},
   "outputs": [
    {
     "data": {
      "image/png": "[encoded data removed]",
      "text/plain": [
       "<Figure size 720x360 with 2 Axes>"
      ]
     },
     "metadata": {},
     "output_type": "display_data"
    }
   ],
   "source": [
    "expenses = df_card.loc[df_card['Operation'] == 'Binance Card Spending']\n",
    "expenses['year_month'] = expenses['UTC_Time'].dt.strftime('%Y-%m')\n",
    "expenses = expenses.pivot_table(index='year_month', columns='Coin', values='Change', aggfunc=np.sum)\n",
    "\n",
    "rewards = df_card.loc[df_card['Operation'] == 'Card Cashback']\n",
    "rewards['year_month'] = rewards['UTC_Time'].dt.strftime('%Y-%m')\n",
    "rewards = rewards.pivot_table(index='year_month', columns='Coin', values='Change', aggfunc=np.sum)\n",
    "\n",
    "fig, ax = plt.subplots(2, 1, figsize = (10,5))\n",
    "ax = ax.flat\n",
    "plt.rcParams['font.size'] = '5'\n",
    "sns.lineplot(data=expenses.cumsum()*-1, ax = ax[0], legend=True, palette='GnBu_d', linewidth=3)\n",
    "#sns.lineplot(data=funding.cumsum(), ax = ax[0], legend=True, palette='RdYlBu_d', linewidth=3)\n",
    "ax[0].set_title('Binance Card Spending')\n",
    "ax[0].set_ylabel('Amount')\n",
    "#ax[0].grid(True)\n",
    "sns.lineplot(data=rewards.cumsum(), ax = ax[1], legend=True, palette='YlOrRd', linewidth=3)\n",
    "ax[1].set_title('Card Cashback')\n",
    "ax[1].set_ylabel('Amount')\n",
    "#ax[1].grid(True)\n",
    "plt.tight_layout()\n",
    "plt.show();"
   ]
  },
  {
   "cell_type": "code",
   "execution_count": 109,
   "metadata": {},
   "outputs": [
    {
     "data": {
      "text/html": [
       "<div>\n",
       "<style scoped>\n",
       "    .dataframe tbody tr th:only-of-type {\n",
       "        vertical-align: middle;\n",
       "    }\n",
       "\n",
       "    .dataframe tbody tr th {\n",
       "        vertical-align: top;\n",
       "    }\n",
       "\n",
       "    .dataframe thead th {\n",
       "        text-align: right;\n",
       "    }\n",
       "</style>\n",
       "<table border=\"1\" class=\"dataframe\">\n",
       "  <thead>\n",
       "    <tr style=\"text-align: right;\">\n",
       "      <th></th>\n",
       "      <th>Coin</th>\n",
       "      <th>year_month</th>\n",
       "      <th>Change</th>\n",
       "    </tr>\n",
       "  </thead>\n",
       "  <tbody>\n",
       "    <tr>\n",
       "      <th>0</th>\n",
       "      <td>EUR</td>\n",
       "      <td>2021-08</td>\n",
       "      <td>638.77</td>\n",
       "    </tr>\n",
       "    <tr>\n",
       "      <th>1</th>\n",
       "      <td>EUR</td>\n",
       "      <td>2021-09</td>\n",
       "      <td>1000.00</td>\n",
       "    </tr>\n",
       "    <tr>\n",
       "      <th>2</th>\n",
       "      <td>EUR</td>\n",
       "      <td>2022-01</td>\n",
       "      <td>-581.35</td>\n",
       "    </tr>\n",
       "  </tbody>\n",
       "</table>\n",
       "</div>"
      ],
      "text/plain": [
       "  Coin year_month   Change\n",
       "0  EUR    2021-08   638.77\n",
       "1  EUR    2021-09  1000.00\n",
       "2  EUR    2022-01  -581.35"
      ]
     },
     "execution_count": 109,
     "metadata": {},
     "output_type": "execute_result"
    }
   ],
   "source": [
    "funding = pd.DataFrame(df_card.loc[(df_card['Operation'] == 'transfer_in') | (df_card['Operation'] == 'transfer_out')])\n",
    "funding['year_month'] = funding['UTC_Time'].dt.strftime('%Y-%m')\n",
    "funding = funding.groupby(['Coin', 'year_month']).sum()['Change'].reset_index()\n",
    "funding"
   ]
  },
  {
   "cell_type": "markdown",
   "metadata": {},
   "source": [
    "## expenses projection model"
   ]
  },
  {
   "cell_type": "code",
   "execution_count": null,
   "metadata": {},
   "outputs": [],
   "source": []
  }
 ],
 "metadata": {
  "interpreter": {
   "hash": "81535c40c187213d8173a98c8ffbf422147d8403865cdcdb817e05fa807ec559"
  },
  "kernelspec": {
   "display_name": "Python 3.9.7 ('base')",
   "language": "python",
   "name": "python3"
  },
  "language_info": {
   "codemirror_mode": {
    "name": "ipython",
    "version": 3
   },
   "file_extension": ".py",
   "mimetype": "text/x-python",
   "name": "python",
   "nbconvert_exporter": "python",
   "pygments_lexer": "ipython3",
   "version": "3.9.7"
  },
  "orig_nbformat": 4
 },
 "nbformat": 4,
 "nbformat_minor": 2
}

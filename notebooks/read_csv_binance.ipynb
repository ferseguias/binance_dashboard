{
 "cells": [
  {
   "cell_type": "code",
   "execution_count": 6,
   "metadata": {},
   "outputs": [],
   "source": [
    "import pandas as pd"
   ]
  },
  {
   "cell_type": "code",
   "execution_count": 10,
   "metadata": {},
   "outputs": [],
   "source": [
    "df_ns = pd.read_csv('../database/export_binance/exports_binance_ns.csv')\n",
    "df_fs = pd.read_csv('../database/export_binance/exports_binance_fs.csv')"
   ]
  },
  {
   "cell_type": "code",
   "execution_count": 16,
   "metadata": {},
   "outputs": [
    {
     "data": {
      "text/html": [
       "<div>\n",
       "<style scoped>\n",
       "    .dataframe tbody tr th:only-of-type {\n",
       "        vertical-align: middle;\n",
       "    }\n",
       "\n",
       "    .dataframe tbody tr th {\n",
       "        vertical-align: top;\n",
       "    }\n",
       "\n",
       "    .dataframe thead th {\n",
       "        text-align: right;\n",
       "    }\n",
       "</style>\n",
       "<table border=\"1\" class=\"dataframe\">\n",
       "  <thead>\n",
       "    <tr style=\"text-align: right;\">\n",
       "      <th></th>\n",
       "      <th>User_ID</th>\n",
       "      <th>UTC_Time</th>\n",
       "      <th>Account</th>\n",
       "      <th>Operation</th>\n",
       "      <th>Coin</th>\n",
       "      <th>Change</th>\n",
       "      <th>Remark</th>\n",
       "    </tr>\n",
       "  </thead>\n",
       "  <tbody>\n",
       "    <tr>\n",
       "      <th>0</th>\n",
       "      <td>11233391</td>\n",
       "      <td>2021-05-31 02:59:00</td>\n",
       "      <td>Savings</td>\n",
       "      <td>Savings Interest</td>\n",
       "      <td>BNB</td>\n",
       "      <td>0.000275</td>\n",
       "      <td>NaN</td>\n",
       "    </tr>\n",
       "    <tr>\n",
       "      <th>1</th>\n",
       "      <td>11233391</td>\n",
       "      <td>2021-05-31 03:57:17</td>\n",
       "      <td>Savings</td>\n",
       "      <td>Savings Interest</td>\n",
       "      <td>BUSD</td>\n",
       "      <td>1.794040</td>\n",
       "      <td>NaN</td>\n",
       "    </tr>\n",
       "    <tr>\n",
       "      <th>2</th>\n",
       "      <td>11233391</td>\n",
       "      <td>2021-05-31 06:39:44</td>\n",
       "      <td>Savings</td>\n",
       "      <td>Savings Interest</td>\n",
       "      <td>BTC</td>\n",
       "      <td>0.000005</td>\n",
       "      <td>NaN</td>\n",
       "    </tr>\n",
       "    <tr>\n",
       "      <th>3</th>\n",
       "      <td>11233391</td>\n",
       "      <td>2021-05-31 20:57:15</td>\n",
       "      <td>Savings</td>\n",
       "      <td>Savings purchase</td>\n",
       "      <td>BTC</td>\n",
       "      <td>-0.000005</td>\n",
       "      <td>NaN</td>\n",
       "    </tr>\n",
       "    <tr>\n",
       "      <th>4</th>\n",
       "      <td>11233391</td>\n",
       "      <td>2021-05-31 20:57:15</td>\n",
       "      <td>Spot</td>\n",
       "      <td>Savings distribution</td>\n",
       "      <td>LDBTC</td>\n",
       "      <td>0.000005</td>\n",
       "      <td>NaN</td>\n",
       "    </tr>\n",
       "    <tr>\n",
       "      <th>...</th>\n",
       "      <td>...</td>\n",
       "      <td>...</td>\n",
       "      <td>...</td>\n",
       "      <td>...</td>\n",
       "      <td>...</td>\n",
       "      <td>...</td>\n",
       "      <td>...</td>\n",
       "    </tr>\n",
       "    <tr>\n",
       "      <th>3295</th>\n",
       "      <td>15578312</td>\n",
       "      <td>2022-06-02 03:39:30</td>\n",
       "      <td>Savings</td>\n",
       "      <td>Savings Interest</td>\n",
       "      <td>BTC</td>\n",
       "      <td>0.000004</td>\n",
       "      <td>NaN</td>\n",
       "    </tr>\n",
       "    <tr>\n",
       "      <th>3296</th>\n",
       "      <td>15578312</td>\n",
       "      <td>2022-06-03 03:40:16</td>\n",
       "      <td>Savings</td>\n",
       "      <td>Savings Interest</td>\n",
       "      <td>BTC</td>\n",
       "      <td>0.000004</td>\n",
       "      <td>NaN</td>\n",
       "    </tr>\n",
       "    <tr>\n",
       "      <th>3297</th>\n",
       "      <td>15578312</td>\n",
       "      <td>2022-06-04 03:40:34</td>\n",
       "      <td>Savings</td>\n",
       "      <td>Savings Interest</td>\n",
       "      <td>BTC</td>\n",
       "      <td>0.000004</td>\n",
       "      <td>NaN</td>\n",
       "    </tr>\n",
       "    <tr>\n",
       "      <th>3298</th>\n",
       "      <td>15578312</td>\n",
       "      <td>2022-06-05 02:23:42</td>\n",
       "      <td>Savings</td>\n",
       "      <td>Savings Interest</td>\n",
       "      <td>BTC</td>\n",
       "      <td>0.000004</td>\n",
       "      <td>NaN</td>\n",
       "    </tr>\n",
       "    <tr>\n",
       "      <th>3299</th>\n",
       "      <td>15578312</td>\n",
       "      <td>2022-06-06 03:40:27</td>\n",
       "      <td>Savings</td>\n",
       "      <td>Savings Interest</td>\n",
       "      <td>BTC</td>\n",
       "      <td>0.000004</td>\n",
       "      <td>NaN</td>\n",
       "    </tr>\n",
       "  </tbody>\n",
       "</table>\n",
       "<p>12999 rows × 7 columns</p>\n",
       "</div>"
      ],
      "text/plain": [
       "       User_ID             UTC_Time  Account             Operation   Coin  \\\n",
       "0     11233391  2021-05-31 02:59:00  Savings      Savings Interest    BNB   \n",
       "1     11233391  2021-05-31 03:57:17  Savings      Savings Interest   BUSD   \n",
       "2     11233391  2021-05-31 06:39:44  Savings      Savings Interest    BTC   \n",
       "3     11233391  2021-05-31 20:57:15  Savings      Savings purchase    BTC   \n",
       "4     11233391  2021-05-31 20:57:15     Spot  Savings distribution  LDBTC   \n",
       "...        ...                  ...      ...                   ...    ...   \n",
       "3295  15578312  2022-06-02 03:39:30  Savings      Savings Interest    BTC   \n",
       "3296  15578312  2022-06-03 03:40:16  Savings      Savings Interest    BTC   \n",
       "3297  15578312  2022-06-04 03:40:34  Savings      Savings Interest    BTC   \n",
       "3298  15578312  2022-06-05 02:23:42  Savings      Savings Interest    BTC   \n",
       "3299  15578312  2022-06-06 03:40:27  Savings      Savings Interest    BTC   \n",
       "\n",
       "        Change Remark  \n",
       "0     0.000275    NaN  \n",
       "1     1.794040    NaN  \n",
       "2     0.000005    NaN  \n",
       "3    -0.000005    NaN  \n",
       "4     0.000005    NaN  \n",
       "...        ...    ...  \n",
       "3295  0.000004    NaN  \n",
       "3296  0.000004    NaN  \n",
       "3297  0.000004    NaN  \n",
       "3298  0.000004    NaN  \n",
       "3299  0.000004    NaN  \n",
       "\n",
       "[12999 rows x 7 columns]"
      ]
     },
     "execution_count": 16,
     "metadata": {},
     "output_type": "execute_result"
    }
   ],
   "source": [
    "df = pd.concat([df_ns, df_fs])\n",
    "df"
   ]
  },
  {
   "cell_type": "code",
   "execution_count": 17,
   "metadata": {},
   "outputs": [
    {
     "data": {
      "text/plain": [
       "array(['Savings', 'Spot', 'Card', 'USDT-Futures', 'IsolatedMargin',\n",
       "       'CrossMargin', 'P2P'], dtype=object)"
      ]
     },
     "execution_count": 17,
     "metadata": {},
     "output_type": "execute_result"
    }
   ],
   "source": [
    "account_unique = df['Account'].unique()\n",
    "account_unique"
   ]
  },
  {
   "cell_type": "code",
   "execution_count": 19,
   "metadata": {},
   "outputs": [
    {
     "data": {
      "text/plain": [
       "array(['Savings Interest', 'Savings purchase', 'Savings distribution',\n",
       "       'Buy', 'Transaction Related', 'Fee', 'Super BNB Mining',\n",
       "       'Binance Card Spending', 'Card Cashback', 'Deposit', 'Sell',\n",
       "       'NFT transaction', 'Withdraw', 'Savings Principal redemption',\n",
       "       'transfer_in', 'transfer_out', 'Small assets exchange BNB',\n",
       "       'Launchpool Interest', 'BNB deducts fee',\n",
       "       'Realize profit and loss', 'Insurance fund compensation',\n",
       "       'Funding Fee', 'Distribution', 'Launchpad subscribe',\n",
       "       'Launchpad token distribution', 'POS savings purchase',\n",
       "       'POS savings interest', 'Large OTC trading',\n",
       "       'POS savings redemption', 'Referrer rebates', 'Commission Rebate',\n",
       "       'Asset Conversion Transfer'], dtype=object)"
      ]
     },
     "execution_count": 19,
     "metadata": {},
     "output_type": "execute_result"
    }
   ],
   "source": [
    "operation_unique = df['Operation'].unique()\n",
    "operation_unique"
   ]
  },
  {
   "cell_type": "code",
   "execution_count": 20,
   "metadata": {},
   "outputs": [
    {
     "data": {
      "text/plain": [
       "array(['BNB', 'BUSD', 'BTC', 'LDBTC', 'DOGE', 'LTC', 'ATA', 'EUR', 'BAND',\n",
       "       'KLAY', 'USDT', 'MATIC', 'MANA', 'SNX', 'SUPER', 'LDBUSD', 'SUSHI',\n",
       "       'SOL', 'LDBNB', 'TLM', 'MINA', 'ATOM', 'LINK', 'MBOX', 'EOS',\n",
       "       'AAVE', 'RAY', 'ETH', 'XTZ', 'LUNA', 'QUICK', 'FTM', 'AVAX',\n",
       "       'TORN', 'CAKE', 'SUB', 'BETA', 'WETH', 'FTT', 'MIR', 'ONE', 'DUSK',\n",
       "       'RUNE', 'UST', 'SLP', 'USDC', 'STORM', 'ADA', 'DOT', 'KSM', 'SAND',\n",
       "       'SFP', 'UNI', 'AUDIO', 'REN', 'QI', 'QISWAP', 'SCRT', 'CELR',\n",
       "       'EDG', 'NEAR'], dtype=object)"
      ]
     },
     "execution_count": 20,
     "metadata": {},
     "output_type": "execute_result"
    }
   ],
   "source": [
    "coin_unique = df['Coin'].unique()\n",
    "coin_unique"
   ]
  },
  {
   "cell_type": "code",
   "execution_count": 25,
   "metadata": {},
   "outputs": [
    {
     "data": {
      "text/plain": [
       "array([nan, 'Withdraw fee is included', '穿仓保证金补偿'], dtype=object)"
      ]
     },
     "execution_count": 25,
     "metadata": {},
     "output_type": "execute_result"
    }
   ],
   "source": [
    "remark_unique = df['Remark'].unique()\n",
    "remark_unique"
   ]
  },
  {
   "cell_type": "code",
   "execution_count": 26,
   "metadata": {},
   "outputs": [],
   "source": [
    "#df.to_excel('../database/export_binance/exports_binance.xlsx')"
   ]
  },
  {
   "cell_type": "code",
   "execution_count": 33,
   "metadata": {},
   "outputs": [
    {
     "data": {
      "text/html": [
       "<div>\n",
       "<style scoped>\n",
       "    .dataframe tbody tr th:only-of-type {\n",
       "        vertical-align: middle;\n",
       "    }\n",
       "\n",
       "    .dataframe tbody tr th {\n",
       "        vertical-align: top;\n",
       "    }\n",
       "\n",
       "    .dataframe thead th {\n",
       "        text-align: right;\n",
       "    }\n",
       "</style>\n",
       "<table border=\"1\" class=\"dataframe\">\n",
       "  <thead>\n",
       "    <tr style=\"text-align: right;\">\n",
       "      <th></th>\n",
       "      <th>User_ID</th>\n",
       "      <th>Change</th>\n",
       "    </tr>\n",
       "    <tr>\n",
       "      <th>Coin</th>\n",
       "      <th></th>\n",
       "      <th></th>\n",
       "    </tr>\n",
       "  </thead>\n",
       "  <tbody>\n",
       "    <tr>\n",
       "      <th>USDT</th>\n",
       "      <td>97752316702</td>\n",
       "      <td>2373.615182</td>\n",
       "    </tr>\n",
       "    <tr>\n",
       "      <th>ONE</th>\n",
       "      <td>121023752</td>\n",
       "      <td>1700.000000</td>\n",
       "    </tr>\n",
       "    <tr>\n",
       "      <th>EDG</th>\n",
       "      <td>15578312</td>\n",
       "      <td>113.678000</td>\n",
       "    </tr>\n",
       "    <tr>\n",
       "      <th>QISWAP</th>\n",
       "      <td>15578312</td>\n",
       "      <td>32.500000</td>\n",
       "    </tr>\n",
       "    <tr>\n",
       "      <th>FTM</th>\n",
       "      <td>547150433</td>\n",
       "      <td>0.634235</td>\n",
       "    </tr>\n",
       "    <tr>\n",
       "      <th>...</th>\n",
       "      <td>...</td>\n",
       "      <td>...</td>\n",
       "    </tr>\n",
       "    <tr>\n",
       "      <th>SUPER</th>\n",
       "      <td>26811703</td>\n",
       "      <td>-1730.500765</td>\n",
       "    </tr>\n",
       "    <tr>\n",
       "      <th>BUSD</th>\n",
       "      <td>16424247217</td>\n",
       "      <td>-1892.367225</td>\n",
       "    </tr>\n",
       "    <tr>\n",
       "      <th>DOGE</th>\n",
       "      <td>101100519</td>\n",
       "      <td>-6054.000000</td>\n",
       "    </tr>\n",
       "    <tr>\n",
       "      <th>STORM</th>\n",
       "      <td>11233391</td>\n",
       "      <td>-13475.000000</td>\n",
       "    </tr>\n",
       "    <tr>\n",
       "      <th>LDBUSD</th>\n",
       "      <td>33700173</td>\n",
       "      <td>-29900.674047</td>\n",
       "    </tr>\n",
       "  </tbody>\n",
       "</table>\n",
       "<p>61 rows × 2 columns</p>\n",
       "</div>"
      ],
      "text/plain": [
       "            User_ID        Change\n",
       "Coin                             \n",
       "USDT    97752316702   2373.615182\n",
       "ONE       121023752   1700.000000\n",
       "EDG        15578312    113.678000\n",
       "QISWAP     15578312     32.500000\n",
       "FTM       547150433      0.634235\n",
       "...             ...           ...\n",
       "SUPER      26811703  -1730.500765\n",
       "BUSD    16424247217  -1892.367225\n",
       "DOGE      101100519  -6054.000000\n",
       "STORM      11233391 -13475.000000\n",
       "LDBUSD     33700173 -29900.674047\n",
       "\n",
       "[61 rows x 2 columns]"
      ]
     },
     "execution_count": 33,
     "metadata": {},
     "output_type": "execute_result"
    }
   ],
   "source": [
    "df.groupby(['Coin']).sum().sort_values(by='Change', ascending=False)"
   ]
  },
  {
   "cell_type": "code",
   "execution_count": null,
   "metadata": {},
   "outputs": [],
   "source": []
  }
 ],
 "metadata": {
  "interpreter": {
   "hash": "81535c40c187213d8173a98c8ffbf422147d8403865cdcdb817e05fa807ec559"
  },
  "kernelspec": {
   "display_name": "Python 3.9.7 ('base')",
   "language": "python",
   "name": "python3"
  },
  "language_info": {
   "codemirror_mode": {
    "name": "ipython",
    "version": 3
   },
   "file_extension": ".py",
   "mimetype": "text/x-python",
   "name": "python",
   "nbconvert_exporter": "python",
   "pygments_lexer": "ipython3",
   "version": "3.9.7"
  },
  "orig_nbformat": 4
 },
 "nbformat": 4,
 "nbformat_minor": 2
}
